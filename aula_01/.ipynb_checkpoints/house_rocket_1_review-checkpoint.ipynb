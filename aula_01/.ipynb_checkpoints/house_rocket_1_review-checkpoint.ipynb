{
 "cells": [
  {
   "cell_type": "markdown",
   "id": "dfb6da6e",
   "metadata": {},
   "source": [
    "## IMPORTS"
   ]
  },
  {
   "cell_type": "code",
   "execution_count": 1,
   "id": "8a079b2a",
   "metadata": {
    "ExecuteTime": {
     "end_time": "2022-06-16T22:44:51.465059Z",
     "start_time": "2022-06-16T22:44:50.033065Z"
    }
   },
   "outputs": [],
   "source": [
    "import pandas as pd"
   ]
  },
  {
   "cell_type": "markdown",
   "id": "af0a1744",
   "metadata": {
    "ExecuteTime": {
     "end_time": "2022-06-16T22:47:22.041995Z",
     "start_time": "2022-06-16T22:47:22.029961Z"
    }
   },
   "source": [
    "## LOAD FILE"
   ]
  },
  {
   "cell_type": "code",
   "execution_count": 2,
   "id": "87b02567",
   "metadata": {
    "ExecuteTime": {
     "end_time": "2022-06-16T22:48:26.597012Z",
     "start_time": "2022-06-16T22:48:26.448012Z"
    }
   },
   "outputs": [
    {
     "data": {
      "text/html": [
       "<div>\n",
       "<style scoped>\n",
       "    .dataframe tbody tr th:only-of-type {\n",
       "        vertical-align: middle;\n",
       "    }\n",
       "\n",
       "    .dataframe tbody tr th {\n",
       "        vertical-align: top;\n",
       "    }\n",
       "\n",
       "    .dataframe thead th {\n",
       "        text-align: right;\n",
       "    }\n",
       "</style>\n",
       "<table border=\"1\" class=\"dataframe\">\n",
       "  <thead>\n",
       "    <tr style=\"text-align: right;\">\n",
       "      <th></th>\n",
       "      <th>id</th>\n",
       "      <th>date</th>\n",
       "      <th>price</th>\n",
       "      <th>bedrooms</th>\n",
       "      <th>bathrooms</th>\n",
       "      <th>sqft_living</th>\n",
       "      <th>sqft_lot</th>\n",
       "      <th>floors</th>\n",
       "      <th>waterfront</th>\n",
       "      <th>view</th>\n",
       "      <th>...</th>\n",
       "      <th>grade</th>\n",
       "      <th>sqft_above</th>\n",
       "      <th>sqft_basement</th>\n",
       "      <th>yr_built</th>\n",
       "      <th>yr_renovated</th>\n",
       "      <th>zipcode</th>\n",
       "      <th>lat</th>\n",
       "      <th>long</th>\n",
       "      <th>sqft_living15</th>\n",
       "      <th>sqft_lot15</th>\n",
       "    </tr>\n",
       "  </thead>\n",
       "  <tbody>\n",
       "    <tr>\n",
       "      <th>0</th>\n",
       "      <td>7129300520</td>\n",
       "      <td>20141013T000000</td>\n",
       "      <td>221900.0</td>\n",
       "      <td>3</td>\n",
       "      <td>1.00</td>\n",
       "      <td>1180</td>\n",
       "      <td>5650</td>\n",
       "      <td>1.0</td>\n",
       "      <td>0</td>\n",
       "      <td>0</td>\n",
       "      <td>...</td>\n",
       "      <td>7</td>\n",
       "      <td>1180</td>\n",
       "      <td>0</td>\n",
       "      <td>1955</td>\n",
       "      <td>0</td>\n",
       "      <td>98178</td>\n",
       "      <td>47.5112</td>\n",
       "      <td>-122.257</td>\n",
       "      <td>1340</td>\n",
       "      <td>5650</td>\n",
       "    </tr>\n",
       "    <tr>\n",
       "      <th>1</th>\n",
       "      <td>6414100192</td>\n",
       "      <td>20141209T000000</td>\n",
       "      <td>538000.0</td>\n",
       "      <td>3</td>\n",
       "      <td>2.25</td>\n",
       "      <td>2570</td>\n",
       "      <td>7242</td>\n",
       "      <td>2.0</td>\n",
       "      <td>0</td>\n",
       "      <td>0</td>\n",
       "      <td>...</td>\n",
       "      <td>7</td>\n",
       "      <td>2170</td>\n",
       "      <td>400</td>\n",
       "      <td>1951</td>\n",
       "      <td>1991</td>\n",
       "      <td>98125</td>\n",
       "      <td>47.7210</td>\n",
       "      <td>-122.319</td>\n",
       "      <td>1690</td>\n",
       "      <td>7639</td>\n",
       "    </tr>\n",
       "    <tr>\n",
       "      <th>2</th>\n",
       "      <td>5631500400</td>\n",
       "      <td>20150225T000000</td>\n",
       "      <td>180000.0</td>\n",
       "      <td>2</td>\n",
       "      <td>1.00</td>\n",
       "      <td>770</td>\n",
       "      <td>10000</td>\n",
       "      <td>1.0</td>\n",
       "      <td>0</td>\n",
       "      <td>0</td>\n",
       "      <td>...</td>\n",
       "      <td>6</td>\n",
       "      <td>770</td>\n",
       "      <td>0</td>\n",
       "      <td>1933</td>\n",
       "      <td>0</td>\n",
       "      <td>98028</td>\n",
       "      <td>47.7379</td>\n",
       "      <td>-122.233</td>\n",
       "      <td>2720</td>\n",
       "      <td>8062</td>\n",
       "    </tr>\n",
       "    <tr>\n",
       "      <th>3</th>\n",
       "      <td>2487200875</td>\n",
       "      <td>20141209T000000</td>\n",
       "      <td>604000.0</td>\n",
       "      <td>4</td>\n",
       "      <td>3.00</td>\n",
       "      <td>1960</td>\n",
       "      <td>5000</td>\n",
       "      <td>1.0</td>\n",
       "      <td>0</td>\n",
       "      <td>0</td>\n",
       "      <td>...</td>\n",
       "      <td>7</td>\n",
       "      <td>1050</td>\n",
       "      <td>910</td>\n",
       "      <td>1965</td>\n",
       "      <td>0</td>\n",
       "      <td>98136</td>\n",
       "      <td>47.5208</td>\n",
       "      <td>-122.393</td>\n",
       "      <td>1360</td>\n",
       "      <td>5000</td>\n",
       "    </tr>\n",
       "    <tr>\n",
       "      <th>4</th>\n",
       "      <td>1954400510</td>\n",
       "      <td>20150218T000000</td>\n",
       "      <td>510000.0</td>\n",
       "      <td>3</td>\n",
       "      <td>2.00</td>\n",
       "      <td>1680</td>\n",
       "      <td>8080</td>\n",
       "      <td>1.0</td>\n",
       "      <td>0</td>\n",
       "      <td>0</td>\n",
       "      <td>...</td>\n",
       "      <td>8</td>\n",
       "      <td>1680</td>\n",
       "      <td>0</td>\n",
       "      <td>1987</td>\n",
       "      <td>0</td>\n",
       "      <td>98074</td>\n",
       "      <td>47.6168</td>\n",
       "      <td>-122.045</td>\n",
       "      <td>1800</td>\n",
       "      <td>7503</td>\n",
       "    </tr>\n",
       "  </tbody>\n",
       "</table>\n",
       "<p>5 rows × 21 columns</p>\n",
       "</div>"
      ],
      "text/plain": [
       "           id             date     price  bedrooms  bathrooms  sqft_living  \\\n",
       "0  7129300520  20141013T000000  221900.0         3       1.00         1180   \n",
       "1  6414100192  20141209T000000  538000.0         3       2.25         2570   \n",
       "2  5631500400  20150225T000000  180000.0         2       1.00          770   \n",
       "3  2487200875  20141209T000000  604000.0         4       3.00         1960   \n",
       "4  1954400510  20150218T000000  510000.0         3       2.00         1680   \n",
       "\n",
       "   sqft_lot  floors  waterfront  view  ...  grade  sqft_above  sqft_basement  \\\n",
       "0      5650     1.0           0     0  ...      7        1180              0   \n",
       "1      7242     2.0           0     0  ...      7        2170            400   \n",
       "2     10000     1.0           0     0  ...      6         770              0   \n",
       "3      5000     1.0           0     0  ...      7        1050            910   \n",
       "4      8080     1.0           0     0  ...      8        1680              0   \n",
       "\n",
       "   yr_built  yr_renovated  zipcode      lat     long  sqft_living15  \\\n",
       "0      1955             0    98178  47.5112 -122.257           1340   \n",
       "1      1951          1991    98125  47.7210 -122.319           1690   \n",
       "2      1933             0    98028  47.7379 -122.233           2720   \n",
       "3      1965             0    98136  47.5208 -122.393           1360   \n",
       "4      1987             0    98074  47.6168 -122.045           1800   \n",
       "\n",
       "   sqft_lot15  \n",
       "0        5650  \n",
       "1        7639  \n",
       "2        8062  \n",
       "3        5000  \n",
       "4        7503  \n",
       "\n",
       "[5 rows x 21 columns]"
      ]
     },
     "execution_count": 2,
     "metadata": {},
     "output_type": "execute_result"
    }
   ],
   "source": [
    "df = pd.read_csv(r'C:\\Users\\andre\\repository\\curso-python-zero-ao-ds\\datasets\\kc_house_data.csv')\n",
    "df.head()"
   ]
  },
  {
   "cell_type": "markdown",
   "id": "fa272a87",
   "metadata": {},
   "source": [
    "## FUNCTIONS"
   ]
  },
  {
   "cell_type": "code",
   "execution_count": 3,
   "id": "f9fcf6c0",
   "metadata": {
    "ExecuteTime": {
     "end_time": "2022-06-16T23:07:46.401694Z",
     "start_time": "2022-06-16T23:07:46.389633Z"
    }
   },
   "outputs": [],
   "source": [
    "def extract_biggest_value(data, column1, column2):\n",
    "    '''\n",
    "    Extract the biggest value in a column and its index or identificator\n",
    "    \n",
    "    param\n",
    "    data: dataframe containing the data\n",
    "    column1: column with the index or identificator\n",
    "    column2: column with the numerical values to be sorted\n",
    "    returns row with the biggerst value and its index or identificator\n",
    "    '''\n",
    "    \n",
    "    \n",
    "    biggest = df[[column1, column2]].sort_values(column2, ascending=False).reset_index(drop=True)[:1]\n",
    "    \n",
    "    return biggest"
   ]
  },
  {
   "cell_type": "markdown",
   "id": "e68fa7d6",
   "metadata": {
    "ExecuteTime": {
     "end_time": "2022-06-16T22:49:11.714955Z",
     "start_time": "2022-06-16T22:49:11.696941Z"
    }
   },
   "source": [
    "## RESPONDENDO AS PERGUNTAS DO CEO"
   ]
  },
  {
   "cell_type": "markdown",
   "id": "c48199cc",
   "metadata": {},
   "source": [
    "1. Quantos imóveis estão disponíveis para compra?"
   ]
  },
  {
   "cell_type": "code",
   "execution_count": 4,
   "id": "4d30d2cb",
   "metadata": {
    "ExecuteTime": {
     "end_time": "2022-06-16T22:52:12.048557Z",
     "start_time": "2022-06-16T22:52:12.028003Z"
    }
   },
   "outputs": [
    {
     "name": "stdout",
     "output_type": "stream",
     "text": [
      "R: O dataset possui 21436 disponíveis para compra\n"
     ]
    }
   ],
   "source": [
    "imoveis_totais = len(df['id'].unique())\n",
    "print('R: O dataset possui {} disponíveis para compra'.format(imoveis_totais))"
   ]
  },
  {
   "cell_type": "markdown",
   "id": "57bd3080",
   "metadata": {},
   "source": [
    "2. Quantos atributos cada imóvel possui? (nº de quartos, número de garagens, m2, etc)"
   ]
  },
  {
   "cell_type": "code",
   "execution_count": 5,
   "id": "5a30708f",
   "metadata": {
    "ExecuteTime": {
     "end_time": "2022-06-16T22:54:24.471547Z",
     "start_time": "2022-06-16T22:54:24.461549Z"
    }
   },
   "outputs": [
    {
     "name": "stdout",
     "output_type": "stream",
     "text": [
      "Cada imóvel possui um número de 19 atributos\n"
     ]
    }
   ],
   "source": [
    "features = df.drop(['id', 'date'], axis=1).columns.to_list()\n",
    "print('Cada imóvel possui um número de {} atributos'.format(len(features)))"
   ]
  },
  {
   "cell_type": "markdown",
   "id": "9b56fb81",
   "metadata": {},
   "source": [
    "3. Quais são esses atributos"
   ]
  },
  {
   "cell_type": "code",
   "execution_count": 6,
   "id": "2d8c7ada",
   "metadata": {
    "ExecuteTime": {
     "end_time": "2022-06-16T22:55:10.574590Z",
     "start_time": "2022-06-16T22:55:10.558585Z"
    }
   },
   "outputs": [
    {
     "name": "stdout",
     "output_type": "stream",
     "text": [
      "Os atributos são:\n",
      "price\n",
      "bedrooms\n",
      "bathrooms\n",
      "sqft_living\n",
      "sqft_lot\n",
      "floors\n",
      "waterfront\n",
      "view\n",
      "condition\n",
      "grade\n",
      "sqft_above\n",
      "sqft_basement\n",
      "yr_built\n",
      "yr_renovated\n",
      "zipcode\n",
      "lat\n",
      "long\n",
      "sqft_living15\n",
      "sqft_lot15\n"
     ]
    }
   ],
   "source": [
    "print('Os atributos são:')\n",
    "for i in features:\n",
    "    print(i)"
   ]
  },
  {
   "cell_type": "markdown",
   "id": "fb936363",
   "metadata": {},
   "source": [
    "4. Qual o imóvel mais caro do portfólio?"
   ]
  },
  {
   "cell_type": "code",
   "execution_count": 7,
   "id": "8a2838c6",
   "metadata": {
    "ExecuteTime": {
     "end_time": "2022-06-16T23:09:23.753384Z",
     "start_time": "2022-06-16T23:09:23.739384Z"
    }
   },
   "outputs": [
    {
     "name": "stdout",
     "output_type": "stream",
     "text": [
      "O imóvel mais caro é o id: 6762700020, e ele custa $7700000.0\n"
     ]
    }
   ],
   "source": [
    "mais_caro = extract_biggest_value(df, 'id', 'price')\n",
    "\n",
    "print('O imóvel mais caro é o id: {}, e ele custa ${}'.format(mais_caro['id'][0], mais_caro['price'][0]))"
   ]
  },
  {
   "cell_type": "markdown",
   "id": "4ad014fc",
   "metadata": {},
   "source": [
    "5. Qual imóvel com maior número de quartos?"
   ]
  },
  {
   "cell_type": "code",
   "execution_count": 8,
   "id": "bec851fb",
   "metadata": {
    "ExecuteTime": {
     "end_time": "2022-06-16T23:10:26.170519Z",
     "start_time": "2022-06-16T23:10:26.151520Z"
    }
   },
   "outputs": [
    {
     "name": "stdout",
     "output_type": "stream",
     "text": [
      "O imóvel com maior número de quartos é o id: 2402100895, e ele tem 33 quartos\n"
     ]
    }
   ],
   "source": [
    "mais_quartos = extract_biggest_value(df, 'id', 'bedrooms')\n",
    "print('O imóvel com maior número de quartos é o id: {}, e ele tem {} quartos'.format(mais_quartos['id'][0], mais_quartos['bedrooms'][0]))"
   ]
  },
  {
   "cell_type": "markdown",
   "id": "158be7d8",
   "metadata": {},
   "source": [
    "## NOVAS PERGUNTAS DO CEO"
   ]
  },
  {
   "cell_type": "markdown",
   "id": "a0658ffc",
   "metadata": {},
   "source": [
    "6. Qual a soma total de quartos do conjunto de dados?"
   ]
  },
  {
   "cell_type": "code",
   "execution_count": 9,
   "id": "b242b65c",
   "metadata": {
    "ExecuteTime": {
     "end_time": "2022-06-16T23:14:53.291258Z",
     "start_time": "2022-06-16T23:14:53.278298Z"
    }
   },
   "outputs": [
    {
     "name": "stdout",
     "output_type": "stream",
     "text": [
      "A soma de todos os imóeis do conjunto é: 45706\n"
     ]
    }
   ],
   "source": [
    "print('A soma de todos os imóeis do conjunto é: {}'.format(int(round(df['bathrooms'].sum(), 0))))"
   ]
  },
  {
   "cell_type": "markdown",
   "id": "5a06f7e9",
   "metadata": {},
   "source": [
    "7. Quantos imóveis possuem 2 banheiros?"
   ]
  },
  {
   "cell_type": "code",
   "execution_count": 10,
   "id": "844ce044",
   "metadata": {
    "ExecuteTime": {
     "end_time": "2022-06-16T23:18:09.739274Z",
     "start_time": "2022-06-16T23:18:09.724187Z"
    }
   },
   "outputs": [
    {
     "data": {
      "text/plain": [
       "1930"
      ]
     },
     "execution_count": 10,
     "metadata": {},
     "output_type": "execute_result"
    }
   ],
   "source": [
    "two_bathrooms = len(df[df['bathrooms'] == 2]['id'])\n",
    "\n",
    "two_bathrooms"
   ]
  },
  {
   "cell_type": "markdown",
   "id": "c35cbe28",
   "metadata": {},
   "source": [
    "8. Qual o preço médio de todas os imóveis no conjunto de dados?"
   ]
  },
  {
   "cell_type": "code",
   "execution_count": 11,
   "id": "9fad0fa8",
   "metadata": {
    "ExecuteTime": {
     "end_time": "2022-06-16T23:21:48.800226Z",
     "start_time": "2022-06-16T23:21:48.791227Z"
    }
   },
   "outputs": [
    {
     "data": {
      "text/plain": [
       "540088.14"
      ]
     },
     "execution_count": 11,
     "metadata": {},
     "output_type": "execute_result"
    }
   ],
   "source": [
    "mean_price = round(df['price'].mean(), 2)\n",
    "\n",
    "mean_price"
   ]
  },
  {
   "cell_type": "markdown",
   "id": "f24c0971",
   "metadata": {},
   "source": [
    "9. Qual o preço médio imóveis com 2 banheiros?"
   ]
  },
  {
   "cell_type": "code",
   "execution_count": 12,
   "id": "60bee594",
   "metadata": {
    "ExecuteTime": {
     "end_time": "2022-06-16T23:20:45.967782Z",
     "start_time": "2022-06-16T23:20:45.953821Z"
    }
   },
   "outputs": [
    {
     "data": {
      "text/plain": [
       "457889.72"
      ]
     },
     "execution_count": 12,
     "metadata": {},
     "output_type": "execute_result"
    }
   ],
   "source": [
    "mean_price_two_bathrooms = round(df[df['bathrooms'] == 2]['price'].mean(), 2)\n",
    "\n",
    "mean_price_two_bathrooms"
   ]
  },
  {
   "cell_type": "markdown",
   "id": "9f174d3e",
   "metadata": {
    "ExecuteTime": {
     "end_time": "2022-06-16T23:20:58.234757Z",
     "start_time": "2022-06-16T23:20:58.212047Z"
    }
   },
   "source": [
    "10. Qual o preço mínimo entre os imóveis com 3 quartos?"
   ]
  },
  {
   "cell_type": "code",
   "execution_count": 13,
   "id": "215b89e3",
   "metadata": {
    "ExecuteTime": {
     "end_time": "2022-06-16T23:23:00.549322Z",
     "start_time": "2022-06-16T23:23:00.528359Z"
    }
   },
   "outputs": [
    {
     "data": {
      "text/plain": [
       "82000.0"
      ]
     },
     "execution_count": 13,
     "metadata": {},
     "output_type": "execute_result"
    }
   ],
   "source": [
    "lowest_price_three_bedrooms = df[df['bedrooms'] == 3]['price'].min()\n",
    "lowest_price_three_bedrooms"
   ]
  },
  {
   "cell_type": "markdown",
   "id": "da9981f9",
   "metadata": {},
   "source": [
    "11. Quantos imóveis possuem mais de 300 m² na sala de estar?"
   ]
  },
  {
   "cell_type": "code",
   "execution_count": 14,
   "id": "164241df",
   "metadata": {
    "ExecuteTime": {
     "end_time": "2022-06-16T23:28:25.607985Z",
     "start_time": "2022-06-16T23:28:25.589649Z"
    }
   },
   "outputs": [
    {
     "data": {
      "text/plain": [
       "2258"
      ]
     },
     "execution_count": 14,
     "metadata": {},
     "output_type": "execute_result"
    }
   ],
   "source": [
    "df['sqft_living_m2'] = round(df['sqft_living'] * 0.092903, 2)\n",
    "\n",
    "living_room_above_300_m2 =  len(df[df['sqft_living_m2'] > 300]['id'])\n",
    "living_room_above_300_m2"
   ]
  },
  {
   "cell_type": "markdown",
   "id": "3e81f237",
   "metadata": {},
   "source": [
    "12. Quantos imóveis tem mais de 2 andares?"
   ]
  },
  {
   "cell_type": "code",
   "execution_count": 15,
   "id": "fad26827",
   "metadata": {
    "ExecuteTime": {
     "end_time": "2022-06-16T23:29:51.738817Z",
     "start_time": "2022-06-16T23:29:51.726348Z"
    }
   },
   "outputs": [
    {
     "data": {
      "text/plain": [
       "782"
      ]
     },
     "execution_count": 15,
     "metadata": {},
     "output_type": "execute_result"
    }
   ],
   "source": [
    "more_than_two_floors = len(df[df['floors'] > 2]['id'])\n",
    "\n",
    "more_than_two_floors"
   ]
  },
  {
   "cell_type": "markdown",
   "id": "c80bd8b1",
   "metadata": {
    "ExecuteTime": {
     "end_time": "2022-06-16T23:28:45.132996Z",
     "start_time": "2022-06-16T23:28:45.118996Z"
    }
   },
   "source": [
    "13. Quantos imóveis tem vista para água?"
   ]
  },
  {
   "cell_type": "code",
   "execution_count": 16,
   "id": "ba1a8e88",
   "metadata": {
    "ExecuteTime": {
     "end_time": "2022-06-16T23:30:41.472115Z",
     "start_time": "2022-06-16T23:30:41.443115Z"
    }
   },
   "outputs": [
    {
     "data": {
      "text/plain": [
       "163"
      ]
     },
     "execution_count": 16,
     "metadata": {},
     "output_type": "execute_result"
    }
   ],
   "source": [
    "water_view = len(df[df['waterfront'] == 1]['id'])\n",
    "\n",
    "water_view"
   ]
  },
  {
   "cell_type": "markdown",
   "id": "647aee34",
   "metadata": {},
   "source": [
    "14. Dos imóveis com vista para água, quantas possuem 3 quartos?"
   ]
  },
  {
   "cell_type": "code",
   "execution_count": 17,
   "id": "c42a2fc9",
   "metadata": {
    "ExecuteTime": {
     "end_time": "2022-06-16T23:32:27.007494Z",
     "start_time": "2022-06-16T23:32:26.994222Z"
    }
   },
   "outputs": [
    {
     "data": {
      "text/plain": [
       "8"
      ]
     },
     "execution_count": 17,
     "metadata": {},
     "output_type": "execute_result"
    }
   ],
   "source": [
    "water_view_3_bath = len(df[(df['waterfront'] == 1) & (df['bathrooms'] == 3)]['id'])\n",
    "\n",
    "water_view_3_bath"
   ]
  },
  {
   "cell_type": "markdown",
   "id": "27596ec5",
   "metadata": {},
   "source": [
    "15. Dos imóveis com mais de 300 m² de sala de estar, quantos tem mais de 2 banheiros?"
   ]
  },
  {
   "cell_type": "code",
   "execution_count": 18,
   "id": "54f258e6",
   "metadata": {
    "ExecuteTime": {
     "end_time": "2022-06-16T23:36:10.737289Z",
     "start_time": "2022-06-16T23:36:10.723885Z"
    }
   },
   "outputs": [
    {
     "data": {
      "text/plain": [
       "2201"
      ]
     },
     "execution_count": 18,
     "metadata": {},
     "output_type": "execute_result"
    }
   ],
   "source": [
    "len(df[(df['sqft_living_m2'] > 300) & (df['bathrooms'] > 2)])"
   ]
  }
 ],
 "metadata": {
  "kernelspec": {
   "display_name": "Python 3 (ipykernel)",
   "language": "python",
   "name": "python3"
  },
  "language_info": {
   "codemirror_mode": {
    "name": "ipython",
    "version": 3
   },
   "file_extension": ".py",
   "mimetype": "text/x-python",
   "name": "python",
   "nbconvert_exporter": "python",
   "pygments_lexer": "ipython3",
   "version": "3.10.4"
  },
  "varInspector": {
   "cols": {
    "lenName": 16,
    "lenType": 16,
    "lenVar": 40
   },
   "kernels_config": {
    "python": {
     "delete_cmd_postfix": "",
     "delete_cmd_prefix": "del ",
     "library": "var_list.py",
     "varRefreshCmd": "print(var_dic_list())"
    },
    "r": {
     "delete_cmd_postfix": ") ",
     "delete_cmd_prefix": "rm(",
     "library": "var_list.r",
     "varRefreshCmd": "cat(var_dic_list()) "
    }
   },
   "types_to_exclude": [
    "module",
    "function",
    "builtin_function_or_method",
    "instance",
    "_Feature"
   ],
   "window_display": false
  }
 },
 "nbformat": 4,
 "nbformat_minor": 5
}
